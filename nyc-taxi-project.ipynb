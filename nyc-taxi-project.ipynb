{
 "cells": [
  {
   "cell_type": "code",
   "execution_count": 1,
   "id": "a64903c3-af20-4ecd-9eb9-a18f78d7bc26",
   "metadata": {},
   "outputs": [],
   "source": [
    "import pandas as pd\n",
    "import matplotlib.pyplot as plt\n",
    "import seaborn as sns\n",
    "import statsmodels.api as sm\n",
    "import scipy.stats as st"
   ]
  },
  {
   "cell_type": "code",
   "execution_count": 2,
   "id": "0dade344-ea9f-48c7-8231-19d87ba606c6",
   "metadata": {},
   "outputs": [],
   "source": [
    "cols = [\"VendorID\",\"tpep_pickup_datetime\",\"tpep_dropoff_datetime\",\"passenger_count\",\"payment_type\",\"fare_amount\",\"trip_distance\"]\n",
    "df = pd.read_csv(\"2020_Yellow_Taxi_Trip_Data.csv\",usecols = cols,nrows = 9000000)"
   ]
  },
  {
   "cell_type": "code",
   "execution_count": 3,
   "id": "eb61fe89-45d9-4783-8c5a-8d7b181ce98f",
   "metadata": {},
   "outputs": [
    {
     "data": {
      "text/html": [
       "<div>\n",
       "<style scoped>\n",
       "    .dataframe tbody tr th:only-of-type {\n",
       "        vertical-align: middle;\n",
       "    }\n",
       "\n",
       "    .dataframe tbody tr th {\n",
       "        vertical-align: top;\n",
       "    }\n",
       "\n",
       "    .dataframe thead th {\n",
       "        text-align: right;\n",
       "    }\n",
       "</style>\n",
       "<table border=\"1\" class=\"dataframe\">\n",
       "  <thead>\n",
       "    <tr style=\"text-align: right;\">\n",
       "      <th></th>\n",
       "      <th>VendorID</th>\n",
       "      <th>tpep_pickup_datetime</th>\n",
       "      <th>tpep_dropoff_datetime</th>\n",
       "      <th>passenger_count</th>\n",
       "      <th>trip_distance</th>\n",
       "      <th>payment_type</th>\n",
       "      <th>fare_amount</th>\n",
       "    </tr>\n",
       "  </thead>\n",
       "  <tbody>\n",
       "    <tr>\n",
       "      <th>0</th>\n",
       "      <td>1.0</td>\n",
       "      <td>01/01/2020 12:28:15 AM</td>\n",
       "      <td>01/01/2020 12:33:03 AM</td>\n",
       "      <td>1.0</td>\n",
       "      <td>1.2</td>\n",
       "      <td>1.0</td>\n",
       "      <td>6.0</td>\n",
       "    </tr>\n",
       "    <tr>\n",
       "      <th>1</th>\n",
       "      <td>1.0</td>\n",
       "      <td>01/01/2020 12:35:39 AM</td>\n",
       "      <td>01/01/2020 12:43:04 AM</td>\n",
       "      <td>1.0</td>\n",
       "      <td>1.2</td>\n",
       "      <td>1.0</td>\n",
       "      <td>7.0</td>\n",
       "    </tr>\n",
       "    <tr>\n",
       "      <th>2</th>\n",
       "      <td>1.0</td>\n",
       "      <td>01/01/2020 12:47:41 AM</td>\n",
       "      <td>01/01/2020 12:53:52 AM</td>\n",
       "      <td>1.0</td>\n",
       "      <td>0.6</td>\n",
       "      <td>1.0</td>\n",
       "      <td>6.0</td>\n",
       "    </tr>\n",
       "    <tr>\n",
       "      <th>3</th>\n",
       "      <td>1.0</td>\n",
       "      <td>01/01/2020 12:55:23 AM</td>\n",
       "      <td>01/01/2020 01:00:14 AM</td>\n",
       "      <td>1.0</td>\n",
       "      <td>0.8</td>\n",
       "      <td>1.0</td>\n",
       "      <td>5.5</td>\n",
       "    </tr>\n",
       "    <tr>\n",
       "      <th>4</th>\n",
       "      <td>2.0</td>\n",
       "      <td>01/01/2020 12:01:58 AM</td>\n",
       "      <td>01/01/2020 12:04:16 AM</td>\n",
       "      <td>1.0</td>\n",
       "      <td>0.0</td>\n",
       "      <td>2.0</td>\n",
       "      <td>3.5</td>\n",
       "    </tr>\n",
       "  </tbody>\n",
       "</table>\n",
       "</div>"
      ],
      "text/plain": [
       "   VendorID    tpep_pickup_datetime   tpep_dropoff_datetime  passenger_count  \\\n",
       "0       1.0  01/01/2020 12:28:15 AM  01/01/2020 12:33:03 AM              1.0   \n",
       "1       1.0  01/01/2020 12:35:39 AM  01/01/2020 12:43:04 AM              1.0   \n",
       "2       1.0  01/01/2020 12:47:41 AM  01/01/2020 12:53:52 AM              1.0   \n",
       "3       1.0  01/01/2020 12:55:23 AM  01/01/2020 01:00:14 AM              1.0   \n",
       "4       2.0  01/01/2020 12:01:58 AM  01/01/2020 12:04:16 AM              1.0   \n",
       "\n",
       "   trip_distance  payment_type  fare_amount  \n",
       "0            1.2           1.0          6.0  \n",
       "1            1.2           1.0          7.0  \n",
       "2            0.6           1.0          6.0  \n",
       "3            0.8           1.0          5.5  \n",
       "4            0.0           2.0          3.5  "
      ]
     },
     "execution_count": 3,
     "metadata": {},
     "output_type": "execute_result"
    }
   ],
   "source": [
    "df.head()"
   ]
  },
  {
   "cell_type": "markdown",
   "id": "9319c216-9844-4bf1-931f-40ac77179236",
   "metadata": {},
   "source": [
    "# exploratory data analysis"
   ]
  },
  {
   "cell_type": "code",
   "execution_count": 4,
   "id": "d628af23-33a2-44b3-be6b-1a0e55505f9b",
   "metadata": {},
   "outputs": [
    {
     "data": {
      "text/plain": [
       "(9000000, 7)"
      ]
     },
     "execution_count": 4,
     "metadata": {},
     "output_type": "execute_result"
    }
   ],
   "source": [
    "df.shape"
   ]
  },
  {
   "cell_type": "code",
   "execution_count": 5,
   "id": "b9f0d26f-6ad7-4f24-af9c-a5b0493192a2",
   "metadata": {},
   "outputs": [
    {
     "data": {
      "text/plain": [
       "VendorID                 float64\n",
       "tpep_pickup_datetime      object\n",
       "tpep_dropoff_datetime     object\n",
       "passenger_count          float64\n",
       "trip_distance            float64\n",
       "payment_type             float64\n",
       "fare_amount              float64\n",
       "dtype: object"
      ]
     },
     "execution_count": 5,
     "metadata": {},
     "output_type": "execute_result"
    }
   ],
   "source": [
    "df.dtypes"
   ]
  },
  {
   "cell_type": "code",
   "execution_count": 6,
   "id": "28ba42fd-c2ed-4150-b686-8d9e3f43c18c",
   "metadata": {},
   "outputs": [],
   "source": [
    "ss = df.copy()"
   ]
  },
  {
   "cell_type": "code",
   "execution_count": 7,
   "id": "1cc7c11f-daff-4c46-8175-222556247631",
   "metadata": {},
   "outputs": [
    {
     "data": {
      "text/html": [
       "<div>\n",
       "<style scoped>\n",
       "    .dataframe tbody tr th:only-of-type {\n",
       "        vertical-align: middle;\n",
       "    }\n",
       "\n",
       "    .dataframe tbody tr th {\n",
       "        vertical-align: top;\n",
       "    }\n",
       "\n",
       "    .dataframe thead th {\n",
       "        text-align: right;\n",
       "    }\n",
       "</style>\n",
       "<table border=\"1\" class=\"dataframe\">\n",
       "  <thead>\n",
       "    <tr style=\"text-align: right;\">\n",
       "      <th></th>\n",
       "      <th>VendorID</th>\n",
       "      <th>tpep_pickup_datetime</th>\n",
       "      <th>tpep_dropoff_datetime</th>\n",
       "      <th>passenger_count</th>\n",
       "      <th>trip_distance</th>\n",
       "      <th>payment_type</th>\n",
       "      <th>fare_amount</th>\n",
       "    </tr>\n",
       "  </thead>\n",
       "  <tbody>\n",
       "    <tr>\n",
       "      <th>0</th>\n",
       "      <td>1.0</td>\n",
       "      <td>01/01/2020 12:28:15 AM</td>\n",
       "      <td>01/01/2020 12:33:03 AM</td>\n",
       "      <td>1.0</td>\n",
       "      <td>1.2</td>\n",
       "      <td>1.0</td>\n",
       "      <td>6.0</td>\n",
       "    </tr>\n",
       "    <tr>\n",
       "      <th>1</th>\n",
       "      <td>1.0</td>\n",
       "      <td>01/01/2020 12:35:39 AM</td>\n",
       "      <td>01/01/2020 12:43:04 AM</td>\n",
       "      <td>1.0</td>\n",
       "      <td>1.2</td>\n",
       "      <td>1.0</td>\n",
       "      <td>7.0</td>\n",
       "    </tr>\n",
       "    <tr>\n",
       "      <th>2</th>\n",
       "      <td>1.0</td>\n",
       "      <td>01/01/2020 12:47:41 AM</td>\n",
       "      <td>01/01/2020 12:53:52 AM</td>\n",
       "      <td>1.0</td>\n",
       "      <td>0.6</td>\n",
       "      <td>1.0</td>\n",
       "      <td>6.0</td>\n",
       "    </tr>\n",
       "    <tr>\n",
       "      <th>3</th>\n",
       "      <td>1.0</td>\n",
       "      <td>01/01/2020 12:55:23 AM</td>\n",
       "      <td>01/01/2020 01:00:14 AM</td>\n",
       "      <td>1.0</td>\n",
       "      <td>0.8</td>\n",
       "      <td>1.0</td>\n",
       "      <td>5.5</td>\n",
       "    </tr>\n",
       "    <tr>\n",
       "      <th>4</th>\n",
       "      <td>2.0</td>\n",
       "      <td>01/01/2020 12:01:58 AM</td>\n",
       "      <td>01/01/2020 12:04:16 AM</td>\n",
       "      <td>1.0</td>\n",
       "      <td>0.0</td>\n",
       "      <td>2.0</td>\n",
       "      <td>3.5</td>\n",
       "    </tr>\n",
       "  </tbody>\n",
       "</table>\n",
       "</div>"
      ],
      "text/plain": [
       "   VendorID    tpep_pickup_datetime   tpep_dropoff_datetime  passenger_count  \\\n",
       "0       1.0  01/01/2020 12:28:15 AM  01/01/2020 12:33:03 AM              1.0   \n",
       "1       1.0  01/01/2020 12:35:39 AM  01/01/2020 12:43:04 AM              1.0   \n",
       "2       1.0  01/01/2020 12:47:41 AM  01/01/2020 12:53:52 AM              1.0   \n",
       "3       1.0  01/01/2020 12:55:23 AM  01/01/2020 01:00:14 AM              1.0   \n",
       "4       2.0  01/01/2020 12:01:58 AM  01/01/2020 12:04:16 AM              1.0   \n",
       "\n",
       "   trip_distance  payment_type  fare_amount  \n",
       "0            1.2           1.0          6.0  \n",
       "1            1.2           1.0          7.0  \n",
       "2            0.6           1.0          6.0  \n",
       "3            0.8           1.0          5.5  \n",
       "4            0.0           2.0          3.5  "
      ]
     },
     "execution_count": 7,
     "metadata": {},
     "output_type": "execute_result"
    }
   ],
   "source": [
    "ss.head()"
   ]
  },
  {
   "cell_type": "code",
   "execution_count": 8,
   "id": "830c1385-12b4-487e-b754-7eb76e34a644",
   "metadata": {},
   "outputs": [],
   "source": [
    "import pandas as pd\n",
    "ss['tpep_pickup_datetime'] = pd.to_datetime(\n",
    "    ss['tpep_pickup_datetime'],\n",
    "    format = \"%m/%d/%Y %I:%M:%S %p\",\n",
    "    errors = \"coerce\"\n",
    ")\n",
    "                                           \n",
    "\n",
    "ss['tpep_dropoff_datetime'] = pd.to_datetime(\n",
    "    ss['tpep_dropoff_datetime'],\n",
    "    format = \"%m/%d/%Y %I:%M:%S %p\",\n",
    "    errors = \"coerce\"\n",
    ")\n",
    "    \n",
    "                                           \n",
    "\n"
   ]
  },
  {
   "cell_type": "code",
   "execution_count": 9,
   "id": "9c65c6d3-4948-4c43-83b0-12e87507e7e4",
   "metadata": {},
   "outputs": [
    {
     "data": {
      "text/html": [
       "<div>\n",
       "<style scoped>\n",
       "    .dataframe tbody tr th:only-of-type {\n",
       "        vertical-align: middle;\n",
       "    }\n",
       "\n",
       "    .dataframe tbody tr th {\n",
       "        vertical-align: top;\n",
       "    }\n",
       "\n",
       "    .dataframe thead th {\n",
       "        text-align: right;\n",
       "    }\n",
       "</style>\n",
       "<table border=\"1\" class=\"dataframe\">\n",
       "  <thead>\n",
       "    <tr style=\"text-align: right;\">\n",
       "      <th></th>\n",
       "      <th>VendorID</th>\n",
       "      <th>tpep_pickup_datetime</th>\n",
       "      <th>tpep_dropoff_datetime</th>\n",
       "      <th>passenger_count</th>\n",
       "      <th>trip_distance</th>\n",
       "      <th>payment_type</th>\n",
       "      <th>fare_amount</th>\n",
       "    </tr>\n",
       "  </thead>\n",
       "  <tbody>\n",
       "    <tr>\n",
       "      <th>0</th>\n",
       "      <td>1.0</td>\n",
       "      <td>2020-01-01 00:28:15</td>\n",
       "      <td>2020-01-01 00:33:03</td>\n",
       "      <td>1.0</td>\n",
       "      <td>1.2</td>\n",
       "      <td>1.0</td>\n",
       "      <td>6.0</td>\n",
       "    </tr>\n",
       "    <tr>\n",
       "      <th>1</th>\n",
       "      <td>1.0</td>\n",
       "      <td>2020-01-01 00:35:39</td>\n",
       "      <td>2020-01-01 00:43:04</td>\n",
       "      <td>1.0</td>\n",
       "      <td>1.2</td>\n",
       "      <td>1.0</td>\n",
       "      <td>7.0</td>\n",
       "    </tr>\n",
       "    <tr>\n",
       "      <th>2</th>\n",
       "      <td>1.0</td>\n",
       "      <td>2020-01-01 00:47:41</td>\n",
       "      <td>2020-01-01 00:53:52</td>\n",
       "      <td>1.0</td>\n",
       "      <td>0.6</td>\n",
       "      <td>1.0</td>\n",
       "      <td>6.0</td>\n",
       "    </tr>\n",
       "    <tr>\n",
       "      <th>3</th>\n",
       "      <td>1.0</td>\n",
       "      <td>2020-01-01 00:55:23</td>\n",
       "      <td>2020-01-01 01:00:14</td>\n",
       "      <td>1.0</td>\n",
       "      <td>0.8</td>\n",
       "      <td>1.0</td>\n",
       "      <td>5.5</td>\n",
       "    </tr>\n",
       "    <tr>\n",
       "      <th>4</th>\n",
       "      <td>2.0</td>\n",
       "      <td>2020-01-01 00:01:58</td>\n",
       "      <td>2020-01-01 00:04:16</td>\n",
       "      <td>1.0</td>\n",
       "      <td>0.0</td>\n",
       "      <td>2.0</td>\n",
       "      <td>3.5</td>\n",
       "    </tr>\n",
       "  </tbody>\n",
       "</table>\n",
       "</div>"
      ],
      "text/plain": [
       "   VendorID tpep_pickup_datetime tpep_dropoff_datetime  passenger_count  \\\n",
       "0       1.0  2020-01-01 00:28:15   2020-01-01 00:33:03              1.0   \n",
       "1       1.0  2020-01-01 00:35:39   2020-01-01 00:43:04              1.0   \n",
       "2       1.0  2020-01-01 00:47:41   2020-01-01 00:53:52              1.0   \n",
       "3       1.0  2020-01-01 00:55:23   2020-01-01 01:00:14              1.0   \n",
       "4       2.0  2020-01-01 00:01:58   2020-01-01 00:04:16              1.0   \n",
       "\n",
       "   trip_distance  payment_type  fare_amount  \n",
       "0            1.2           1.0          6.0  \n",
       "1            1.2           1.0          7.0  \n",
       "2            0.6           1.0          6.0  \n",
       "3            0.8           1.0          5.5  \n",
       "4            0.0           2.0          3.5  "
      ]
     },
     "execution_count": 9,
     "metadata": {},
     "output_type": "execute_result"
    }
   ],
   "source": [
    "ss.head()"
   ]
  },
  {
   "cell_type": "code",
   "execution_count": 10,
   "id": "e3e5e381-774a-4774-a854-a1ca85e0f750",
   "metadata": {},
   "outputs": [
    {
     "data": {
      "text/plain": [
       "VendorID                        float64\n",
       "tpep_pickup_datetime     datetime64[ns]\n",
       "tpep_dropoff_datetime    datetime64[ns]\n",
       "passenger_count                 float64\n",
       "trip_distance                   float64\n",
       "payment_type                    float64\n",
       "fare_amount                     float64\n",
       "dtype: object"
      ]
     },
     "execution_count": 10,
     "metadata": {},
     "output_type": "execute_result"
    }
   ],
   "source": [
    "ss.dtypes"
   ]
  },
  {
   "cell_type": "code",
   "execution_count": 11,
   "id": "864bb4d1-90fb-4531-819f-dbbb77e0d1fb",
   "metadata": {},
   "outputs": [],
   "source": [
    "ss[\"duration\"] = ss[\"tpep_dropoff_datetime\"] - ss[\"tpep_pickup_datetime\"]\n"
   ]
  },
  {
   "cell_type": "code",
   "execution_count": 12,
   "id": "4acc428f-9741-4e47-8abe-5f9cad2f52db",
   "metadata": {},
   "outputs": [],
   "source": [
    "ss[\"duration\"]= ss[\"duration\"].dt.total_seconds()/60"
   ]
  },
  {
   "cell_type": "code",
   "execution_count": 13,
   "id": "f4a4fcf3-8f5b-43ab-9b7d-7528313129a5",
   "metadata": {},
   "outputs": [],
   "source": [
    "ss[\"duration\"] = ss[\"duration\"].round(2)"
   ]
  },
  {
   "cell_type": "code",
   "execution_count": 14,
   "id": "9e87e61f-b679-4b85-a67d-d1bae57c870d",
   "metadata": {},
   "outputs": [
    {
     "data": {
      "text/html": [
       "<div>\n",
       "<style scoped>\n",
       "    .dataframe tbody tr th:only-of-type {\n",
       "        vertical-align: middle;\n",
       "    }\n",
       "\n",
       "    .dataframe tbody tr th {\n",
       "        vertical-align: top;\n",
       "    }\n",
       "\n",
       "    .dataframe thead th {\n",
       "        text-align: right;\n",
       "    }\n",
       "</style>\n",
       "<table border=\"1\" class=\"dataframe\">\n",
       "  <thead>\n",
       "    <tr style=\"text-align: right;\">\n",
       "      <th></th>\n",
       "      <th>VendorID</th>\n",
       "      <th>tpep_pickup_datetime</th>\n",
       "      <th>tpep_dropoff_datetime</th>\n",
       "      <th>passenger_count</th>\n",
       "      <th>trip_distance</th>\n",
       "      <th>payment_type</th>\n",
       "      <th>fare_amount</th>\n",
       "      <th>duration</th>\n",
       "    </tr>\n",
       "  </thead>\n",
       "  <tbody>\n",
       "    <tr>\n",
       "      <th>0</th>\n",
       "      <td>1.0</td>\n",
       "      <td>2020-01-01 00:28:15</td>\n",
       "      <td>2020-01-01 00:33:03</td>\n",
       "      <td>1.0</td>\n",
       "      <td>1.2</td>\n",
       "      <td>1.0</td>\n",
       "      <td>6.0</td>\n",
       "      <td>4.80</td>\n",
       "    </tr>\n",
       "    <tr>\n",
       "      <th>1</th>\n",
       "      <td>1.0</td>\n",
       "      <td>2020-01-01 00:35:39</td>\n",
       "      <td>2020-01-01 00:43:04</td>\n",
       "      <td>1.0</td>\n",
       "      <td>1.2</td>\n",
       "      <td>1.0</td>\n",
       "      <td>7.0</td>\n",
       "      <td>7.42</td>\n",
       "    </tr>\n",
       "    <tr>\n",
       "      <th>2</th>\n",
       "      <td>1.0</td>\n",
       "      <td>2020-01-01 00:47:41</td>\n",
       "      <td>2020-01-01 00:53:52</td>\n",
       "      <td>1.0</td>\n",
       "      <td>0.6</td>\n",
       "      <td>1.0</td>\n",
       "      <td>6.0</td>\n",
       "      <td>6.18</td>\n",
       "    </tr>\n",
       "    <tr>\n",
       "      <th>3</th>\n",
       "      <td>1.0</td>\n",
       "      <td>2020-01-01 00:55:23</td>\n",
       "      <td>2020-01-01 01:00:14</td>\n",
       "      <td>1.0</td>\n",
       "      <td>0.8</td>\n",
       "      <td>1.0</td>\n",
       "      <td>5.5</td>\n",
       "      <td>4.85</td>\n",
       "    </tr>\n",
       "    <tr>\n",
       "      <th>4</th>\n",
       "      <td>2.0</td>\n",
       "      <td>2020-01-01 00:01:58</td>\n",
       "      <td>2020-01-01 00:04:16</td>\n",
       "      <td>1.0</td>\n",
       "      <td>0.0</td>\n",
       "      <td>2.0</td>\n",
       "      <td>3.5</td>\n",
       "      <td>2.30</td>\n",
       "    </tr>\n",
       "  </tbody>\n",
       "</table>\n",
       "</div>"
      ],
      "text/plain": [
       "   VendorID tpep_pickup_datetime tpep_dropoff_datetime  passenger_count  \\\n",
       "0       1.0  2020-01-01 00:28:15   2020-01-01 00:33:03              1.0   \n",
       "1       1.0  2020-01-01 00:35:39   2020-01-01 00:43:04              1.0   \n",
       "2       1.0  2020-01-01 00:47:41   2020-01-01 00:53:52              1.0   \n",
       "3       1.0  2020-01-01 00:55:23   2020-01-01 01:00:14              1.0   \n",
       "4       2.0  2020-01-01 00:01:58   2020-01-01 00:04:16              1.0   \n",
       "\n",
       "   trip_distance  payment_type  fare_amount  duration  \n",
       "0            1.2           1.0          6.0      4.80  \n",
       "1            1.2           1.0          7.0      7.42  \n",
       "2            0.6           1.0          6.0      6.18  \n",
       "3            0.8           1.0          5.5      4.85  \n",
       "4            0.0           2.0          3.5      2.30  "
      ]
     },
     "execution_count": 14,
     "metadata": {},
     "output_type": "execute_result"
    }
   ],
   "source": [
    "ss.head()"
   ]
  },
  {
   "cell_type": "markdown",
   "id": "634a74c7-0cb4-407f-8d8a-d54aaf5cf724",
   "metadata": {},
   "source": [
    "# extracting important columns"
   ]
  },
  {
   "cell_type": "code",
   "execution_count": 66,
   "id": "12d35c69-1a2a-4768-bcc2-eefb05b1188b",
   "metadata": {},
   "outputs": [],
   "source": [
    "ss = ss[[\"passenger_count\",\"payment_type\",\"fare_amount\",\"trip_distance\",\"duration\"]]"
   ]
  },
  {
   "cell_type": "code",
   "execution_count": 67,
   "id": "3f4aa73f-d906-4c58-863e-88cd8c3bb490",
   "metadata": {},
   "outputs": [
    {
     "data": {
      "text/html": [
       "<div>\n",
       "<style scoped>\n",
       "    .dataframe tbody tr th:only-of-type {\n",
       "        vertical-align: middle;\n",
       "    }\n",
       "\n",
       "    .dataframe tbody tr th {\n",
       "        vertical-align: top;\n",
       "    }\n",
       "\n",
       "    .dataframe thead th {\n",
       "        text-align: right;\n",
       "    }\n",
       "</style>\n",
       "<table border=\"1\" class=\"dataframe\">\n",
       "  <thead>\n",
       "    <tr style=\"text-align: right;\">\n",
       "      <th></th>\n",
       "      <th>passenger_count</th>\n",
       "      <th>payment_type</th>\n",
       "      <th>fare_amount</th>\n",
       "      <th>trip_distance</th>\n",
       "      <th>duration</th>\n",
       "    </tr>\n",
       "  </thead>\n",
       "  <tbody>\n",
       "    <tr>\n",
       "      <th>0</th>\n",
       "      <td>1</td>\n",
       "      <td>card</td>\n",
       "      <td>6.0</td>\n",
       "      <td>1.20</td>\n",
       "      <td>4.80</td>\n",
       "    </tr>\n",
       "    <tr>\n",
       "      <th>1</th>\n",
       "      <td>1</td>\n",
       "      <td>card</td>\n",
       "      <td>7.0</td>\n",
       "      <td>1.20</td>\n",
       "      <td>7.42</td>\n",
       "    </tr>\n",
       "    <tr>\n",
       "      <th>2</th>\n",
       "      <td>1</td>\n",
       "      <td>card</td>\n",
       "      <td>6.0</td>\n",
       "      <td>0.60</td>\n",
       "      <td>6.18</td>\n",
       "    </tr>\n",
       "    <tr>\n",
       "      <th>3</th>\n",
       "      <td>1</td>\n",
       "      <td>card</td>\n",
       "      <td>5.5</td>\n",
       "      <td>0.80</td>\n",
       "      <td>4.85</td>\n",
       "    </tr>\n",
       "    <tr>\n",
       "      <th>5</th>\n",
       "      <td>1</td>\n",
       "      <td>cash</td>\n",
       "      <td>2.5</td>\n",
       "      <td>0.03</td>\n",
       "      <td>0.88</td>\n",
       "    </tr>\n",
       "  </tbody>\n",
       "</table>\n",
       "</div>"
      ],
      "text/plain": [
       "   passenger_count payment_type  fare_amount  trip_distance  duration\n",
       "0                1         card          6.0           1.20      4.80\n",
       "1                1         card          7.0           1.20      7.42\n",
       "2                1         card          6.0           0.60      6.18\n",
       "3                1         card          5.5           0.80      4.85\n",
       "5                1         cash          2.5           0.03      0.88"
      ]
     },
     "execution_count": 67,
     "metadata": {},
     "output_type": "execute_result"
    }
   ],
   "source": [
    "ss.head()"
   ]
  },
  {
   "cell_type": "code",
   "execution_count": 17,
   "id": "25b12cab-bdd2-49d3-9d69-1938bccd1ad4",
   "metadata": {},
   "outputs": [
    {
     "data": {
      "text/plain": [
       "passenger_count    84876\n",
       "payment_type       84876\n",
       "fare_amount            0\n",
       "trip_distance          0\n",
       "duration               0\n",
       "dtype: int64"
      ]
     },
     "execution_count": 17,
     "metadata": {},
     "output_type": "execute_result"
    }
   ],
   "source": [
    "ss.isnull().sum()"
   ]
  },
  {
   "cell_type": "markdown",
   "id": "81df9c5e-919b-4db1-9a6b-c825f3de04a1",
   "metadata": {},
   "source": [
    "# find the percent of mising values"
   ]
  },
  {
   "cell_type": "code",
   "execution_count": 18,
   "id": "592ea47c-697c-4d79-9db0-2e0d4bd8739b",
   "metadata": {},
   "outputs": [
    {
     "data": {
      "text/plain": [
       "0.009430666666666667"
      ]
     },
     "execution_count": 18,
     "metadata": {},
     "output_type": "execute_result"
    }
   ],
   "source": [
    "84876/len(ss)"
   ]
  },
  {
   "cell_type": "code",
   "execution_count": 19,
   "id": "5abe73b9-7e30-4555-8d45-8c35da5f3ed6",
   "metadata": {},
   "outputs": [],
   "source": [
    "ss.dropna(inplace = True)"
   ]
  },
  {
   "cell_type": "code",
   "execution_count": 20,
   "id": "d7d3e8c4-2504-452b-8c25-eaba192a99d5",
   "metadata": {},
   "outputs": [
    {
     "data": {
      "text/plain": [
       "passenger_count    0\n",
       "payment_type       0\n",
       "fare_amount        0\n",
       "trip_distance      0\n",
       "duration           0\n",
       "dtype: int64"
      ]
     },
     "execution_count": 20,
     "metadata": {},
     "output_type": "execute_result"
    }
   ],
   "source": [
    "ss.isnull().sum()"
   ]
  },
  {
   "cell_type": "code",
   "execution_count": 21,
   "id": "b24fd7eb-f1d3-42d2-befc-d7622c05cd70",
   "metadata": {},
   "outputs": [
    {
     "data": {
      "text/plain": [
       "(8915124, 5)"
      ]
     },
     "execution_count": 21,
     "metadata": {},
     "output_type": "execute_result"
    }
   ],
   "source": [
    "ss.shape"
   ]
  },
  {
   "cell_type": "code",
   "execution_count": 22,
   "id": "e089fe5e-7b65-4b65-aefa-e82f7ed596bd",
   "metadata": {},
   "outputs": [],
   "source": [
    "ss[\"passenger_count\"] = ss[\"passenger_count\"].astype(\"int\")\n",
    "ss[\"payment_type\"] = ss[\"payment_type\"].astype(\"int\")"
   ]
  },
  {
   "cell_type": "code",
   "execution_count": 23,
   "id": "1e4ed654-27d7-44c1-8f42-c5393f1ed1e8",
   "metadata": {},
   "outputs": [
    {
     "data": {
      "text/plain": [
       "(8915124, 5)"
      ]
     },
     "execution_count": 23,
     "metadata": {},
     "output_type": "execute_result"
    }
   ],
   "source": [
    "ss.shape"
   ]
  },
  {
   "cell_type": "code",
   "execution_count": 24,
   "id": "b558ef2b-d975-40fa-92d4-ffd09945091b",
   "metadata": {
    "scrolled": true
   },
   "outputs": [
    {
     "data": {
      "text/plain": [
       "(5055410, 5)"
      ]
     },
     "execution_count": 24,
     "metadata": {},
     "output_type": "execute_result"
    }
   ],
   "source": [
    "ss[ss.duplicated()].shape"
   ]
  },
  {
   "cell_type": "markdown",
   "id": "b1e71b35-e1b3-4481-8139-bd38e27a4f18",
   "metadata": {},
   "source": [
    "# Droping Duplicate values"
   ]
  },
  {
   "cell_type": "code",
   "execution_count": 25,
   "id": "66f7b843-0f05-4eb2-8271-6ffaecedbd09",
   "metadata": {},
   "outputs": [],
   "source": [
    "ss.drop_duplicates(inplace = True)"
   ]
  },
  {
   "cell_type": "code",
   "execution_count": 26,
   "id": "d26bad4f-5852-4428-af5c-b95945e84c89",
   "metadata": {},
   "outputs": [
    {
     "data": {
      "text/plain": [
       "(3859714, 5)"
      ]
     },
     "execution_count": 26,
     "metadata": {},
     "output_type": "execute_result"
    }
   ],
   "source": [
    "ss.shape"
   ]
  },
  {
   "cell_type": "markdown",
   "id": "5d10975c-0701-466e-8f3c-a5695084a01f",
   "metadata": {},
   "source": [
    "# cheaking the distribution for numeric and categorial data "
   ]
  },
  {
   "cell_type": "code",
   "execution_count": 27,
   "id": "5e0573fa-398a-4c7f-b898-08425cef5217",
   "metadata": {},
   "outputs": [
    {
     "data": {
      "text/plain": [
       "passenger_count\n",
       "1    0.574217\n",
       "2    0.190681\n",
       "3    0.067824\n",
       "5    0.065390\n",
       "6    0.041535\n",
       "4    0.036961\n",
       "0    0.023371\n",
       "7    0.000010\n",
       "8    0.000006\n",
       "9    0.000006\n",
       "Name: proportion, dtype: float64"
      ]
     },
     "execution_count": 27,
     "metadata": {},
     "output_type": "execute_result"
    }
   ],
   "source": [
    "ss[\"passenger_count\"].value_counts(normalize= True)"
   ]
  },
  {
   "cell_type": "code",
   "execution_count": 28,
   "id": "c08e3f92-6a05-47e0-976a-80363ae3546a",
   "metadata": {},
   "outputs": [
    {
     "data": {
      "text/plain": [
       "payment_type\n",
       "1    6.788125e-01\n",
       "2    3.061045e-01\n",
       "3    9.231254e-03\n",
       "4    5.851470e-03\n",
       "5    2.590866e-07\n",
       "Name: proportion, dtype: float64"
      ]
     },
     "execution_count": 28,
     "metadata": {},
     "output_type": "execute_result"
    }
   ],
   "source": [
    "ss[\"payment_type\"].value_counts(normalize= True)"
   ]
  },
  {
   "cell_type": "code",
   "execution_count": 29,
   "id": "9f3ac2e8-96c1-4720-9fc7-f6f3f405e51d",
   "metadata": {},
   "outputs": [],
   "source": [
    "ss = ss[ss[\"payment_type\"]<3]\n",
    "ss = ss[(ss[\"passenger_count\"]>0) & (ss[\"passenger_count\"]<6)]"
   ]
  },
  {
   "cell_type": "code",
   "execution_count": 30,
   "id": "19714cff-2b3a-48ae-855b-ae9dac898ad1",
   "metadata": {},
   "outputs": [
    {
     "data": {
      "text/html": [
       "<div>\n",
       "<style scoped>\n",
       "    .dataframe tbody tr th:only-of-type {\n",
       "        vertical-align: middle;\n",
       "    }\n",
       "\n",
       "    .dataframe tbody tr th {\n",
       "        vertical-align: top;\n",
       "    }\n",
       "\n",
       "    .dataframe thead th {\n",
       "        text-align: right;\n",
       "    }\n",
       "</style>\n",
       "<table border=\"1\" class=\"dataframe\">\n",
       "  <thead>\n",
       "    <tr style=\"text-align: right;\">\n",
       "      <th></th>\n",
       "      <th>passenger_count</th>\n",
       "      <th>payment_type</th>\n",
       "      <th>fare_amount</th>\n",
       "      <th>trip_distance</th>\n",
       "      <th>duration</th>\n",
       "    </tr>\n",
       "  </thead>\n",
       "  <tbody>\n",
       "    <tr>\n",
       "      <th>0</th>\n",
       "      <td>1</td>\n",
       "      <td>1</td>\n",
       "      <td>6.0</td>\n",
       "      <td>1.2</td>\n",
       "      <td>4.80</td>\n",
       "    </tr>\n",
       "    <tr>\n",
       "      <th>1</th>\n",
       "      <td>1</td>\n",
       "      <td>1</td>\n",
       "      <td>7.0</td>\n",
       "      <td>1.2</td>\n",
       "      <td>7.42</td>\n",
       "    </tr>\n",
       "    <tr>\n",
       "      <th>2</th>\n",
       "      <td>1</td>\n",
       "      <td>1</td>\n",
       "      <td>6.0</td>\n",
       "      <td>0.6</td>\n",
       "      <td>6.18</td>\n",
       "    </tr>\n",
       "    <tr>\n",
       "      <th>3</th>\n",
       "      <td>1</td>\n",
       "      <td>1</td>\n",
       "      <td>5.5</td>\n",
       "      <td>0.8</td>\n",
       "      <td>4.85</td>\n",
       "    </tr>\n",
       "    <tr>\n",
       "      <th>4</th>\n",
       "      <td>1</td>\n",
       "      <td>2</td>\n",
       "      <td>3.5</td>\n",
       "      <td>0.0</td>\n",
       "      <td>2.30</td>\n",
       "    </tr>\n",
       "  </tbody>\n",
       "</table>\n",
       "</div>"
      ],
      "text/plain": [
       "   passenger_count  payment_type  fare_amount  trip_distance  duration\n",
       "0                1             1          6.0            1.2      4.80\n",
       "1                1             1          7.0            1.2      7.42\n",
       "2                1             1          6.0            0.6      6.18\n",
       "3                1             1          5.5            0.8      4.85\n",
       "4                1             2          3.5            0.0      2.30"
      ]
     },
     "execution_count": 30,
     "metadata": {},
     "output_type": "execute_result"
    }
   ],
   "source": [
    "ss.head()"
   ]
  },
  {
   "cell_type": "code",
   "execution_count": 31,
   "id": "9a7cb88d-f22a-4905-b139-6ea1c2aac29e",
   "metadata": {},
   "outputs": [
    {
     "data": {
      "text/plain": [
       "(3554379, 5)"
      ]
     },
     "execution_count": 31,
     "metadata": {},
     "output_type": "execute_result"
    }
   ],
   "source": [
    "ss.shape"
   ]
  },
  {
   "cell_type": "code",
   "execution_count": 32,
   "id": "9e5634f4-555f-4e70-8d54-c0245c2fd573",
   "metadata": {},
   "outputs": [],
   "source": [
    "ss[\"payment_type\"] = ss[\"payment_type\"].replace([1,2],[\"card\",\"cash\"])"
   ]
  },
  {
   "cell_type": "code",
   "execution_count": null,
   "id": "2723fd8d-2d62-442f-9cd0-fc9cd7f55017",
   "metadata": {},
   "outputs": [],
   "source": []
  },
  {
   "cell_type": "code",
   "execution_count": 33,
   "id": "48a99dff-b783-4c12-82f5-8543f0dea827",
   "metadata": {},
   "outputs": [
    {
     "data": {
      "text/html": [
       "<div>\n",
       "<style scoped>\n",
       "    .dataframe tbody tr th:only-of-type {\n",
       "        vertical-align: middle;\n",
       "    }\n",
       "\n",
       "    .dataframe tbody tr th {\n",
       "        vertical-align: top;\n",
       "    }\n",
       "\n",
       "    .dataframe thead th {\n",
       "        text-align: right;\n",
       "    }\n",
       "</style>\n",
       "<table border=\"1\" class=\"dataframe\">\n",
       "  <thead>\n",
       "    <tr style=\"text-align: right;\">\n",
       "      <th></th>\n",
       "      <th>passenger_count</th>\n",
       "      <th>fare_amount</th>\n",
       "      <th>trip_distance</th>\n",
       "      <th>duration</th>\n",
       "    </tr>\n",
       "  </thead>\n",
       "  <tbody>\n",
       "    <tr>\n",
       "      <th>count</th>\n",
       "      <td>3.554379e+06</td>\n",
       "      <td>3.554379e+06</td>\n",
       "      <td>3.554379e+06</td>\n",
       "      <td>3.554379e+06</td>\n",
       "    </tr>\n",
       "    <tr>\n",
       "      <th>mean</th>\n",
       "      <td>1.752947e+00</td>\n",
       "      <td>1.840343e+01</td>\n",
       "      <td>4.717962e+00</td>\n",
       "      <td>2.533673e+01</td>\n",
       "    </tr>\n",
       "    <tr>\n",
       "      <th>std</th>\n",
       "      <td>1.191739e+00</td>\n",
       "      <td>1.521619e+01</td>\n",
       "      <td>4.973685e+00</td>\n",
       "      <td>9.638496e+01</td>\n",
       "    </tr>\n",
       "    <tr>\n",
       "      <th>min</th>\n",
       "      <td>1.000000e+00</td>\n",
       "      <td>-5.000000e+02</td>\n",
       "      <td>-2.218000e+01</td>\n",
       "      <td>-9.990670e+03</td>\n",
       "    </tr>\n",
       "    <tr>\n",
       "      <th>25%</th>\n",
       "      <td>1.000000e+00</td>\n",
       "      <td>9.000000e+00</td>\n",
       "      <td>1.580000e+00</td>\n",
       "      <td>1.038000e+01</td>\n",
       "    </tr>\n",
       "    <tr>\n",
       "      <th>50%</th>\n",
       "      <td>1.000000e+00</td>\n",
       "      <td>1.400000e+01</td>\n",
       "      <td>2.900000e+00</td>\n",
       "      <td>1.643000e+01</td>\n",
       "    </tr>\n",
       "    <tr>\n",
       "      <th>75%</th>\n",
       "      <td>2.000000e+00</td>\n",
       "      <td>2.200000e+01</td>\n",
       "      <td>5.800000e+00</td>\n",
       "      <td>2.427000e+01</td>\n",
       "    </tr>\n",
       "    <tr>\n",
       "      <th>max</th>\n",
       "      <td>5.000000e+00</td>\n",
       "      <td>4.265000e+03</td>\n",
       "      <td>3.699400e+02</td>\n",
       "      <td>8.525120e+03</td>\n",
       "    </tr>\n",
       "  </tbody>\n",
       "</table>\n",
       "</div>"
      ],
      "text/plain": [
       "       passenger_count   fare_amount  trip_distance      duration\n",
       "count     3.554379e+06  3.554379e+06   3.554379e+06  3.554379e+06\n",
       "mean      1.752947e+00  1.840343e+01   4.717962e+00  2.533673e+01\n",
       "std       1.191739e+00  1.521619e+01   4.973685e+00  9.638496e+01\n",
       "min       1.000000e+00 -5.000000e+02  -2.218000e+01 -9.990670e+03\n",
       "25%       1.000000e+00  9.000000e+00   1.580000e+00  1.038000e+01\n",
       "50%       1.000000e+00  1.400000e+01   2.900000e+00  1.643000e+01\n",
       "75%       2.000000e+00  2.200000e+01   5.800000e+00  2.427000e+01\n",
       "max       5.000000e+00  4.265000e+03   3.699400e+02  8.525120e+03"
      ]
     },
     "execution_count": 33,
     "metadata": {},
     "output_type": "execute_result"
    }
   ],
   "source": [
    "ss.describe()"
   ]
  },
  {
   "cell_type": "markdown",
   "id": "ad88b631-e3ea-4567-b388-889b2f55a0bf",
   "metadata": {},
   "source": [
    "# removing the negitive values"
   ]
  },
  {
   "cell_type": "code",
   "execution_count": 34,
   "id": "781ce066-efb2-4661-8fec-8e5f6caec7a5",
   "metadata": {},
   "outputs": [],
   "source": [
    "ss = ss[ss[\"fare_amount\"]>0]\n",
    "ss = ss[ss[\"trip_distance\"]>0]\n",
    "ss = ss[ss[\"duration\"]>0]"
   ]
  },
  {
   "cell_type": "markdown",
   "id": "82fae36a-4ec4-4024-bc5a-02a9b80df2b6",
   "metadata": {},
   "source": [
    "# cheaking the outlires"
   ]
  },
  {
   "cell_type": "code",
   "execution_count": 35,
   "id": "00f9131b-25aa-47f7-a6f2-1e5b41e93b03",
   "metadata": {},
   "outputs": [
    {
     "data": {
      "image/png": "[encoded data removed]",
      "text/plain": [
       "<Figure size 640x480 with 1 Axes>"
      ]
     },
     "metadata": {},
     "output_type": "display_data"
    }
   ],
   "source": [
    "plt.hist(ss[\"fare_amount\"],color = \"#CA5A1C\")\n",
    "plt.show()"
   ]
  },
  {
   "cell_type": "code",
   "execution_count": 36,
   "id": "d493a4cc-6c84-4bc3-98af-f9b8dd4621de",
   "metadata": {},
   "outputs": [
    {
     "data": {
      "image/png": "[encoded data removed]",
      "text/plain": [
       "<Figure size 640x480 with 1 Axes>"
      ]
     },
     "metadata": {},
     "output_type": "display_data"
    }
   ],
   "source": [
    "sns.boxplot(ss[\"fare_amount\"])\n",
    "plt.show()"
   ]
  },
  {
   "cell_type": "markdown",
   "id": "ca449814-4bd8-4256-b6f1-69fb48455559",
   "metadata": {},
   "source": [
    "# we use interquartile range to remove outliers"
   ]
  },
  {
   "cell_type": "code",
   "execution_count": 37,
   "id": "39e5b161-a5ed-4c1c-9683-af87265e30ff",
   "metadata": {},
   "outputs": [],
   "source": [
    "gf1 = ss.copy()"
   ]
  },
  {
   "cell_type": "code",
   "execution_count": null,
   "id": "a129ce02-9ef5-47d0-b6e8-8227da91b706",
   "metadata": {},
   "outputs": [],
   "source": []
  },
  {
   "cell_type": "code",
   "execution_count": 38,
   "id": "2bf2889d-4bf2-4967-965a-f81a352c58b7",
   "metadata": {},
   "outputs": [],
   "source": [
    "for col in [\"fare_amount\",\"trip_distance\",\"duration\"]:\n",
    "    q1 = gf1[col].quantile(0.25)\n",
    "    q3 = gf1[col].quantile(0.75)\n",
    "    iqr = q3-q1\n",
    "\n",
    "    llowerbound = q1-1.5*iqr\n",
    "    uppperbound = q3+1.5*iqr\n",
    "    gf1 = gf1[(gf1[col] >= llowerbound) & (gf1[col] <= uppperbound)]"
   ]
  },
  {
   "cell_type": "code",
   "execution_count": 39,
   "id": "f144d454-9b09-470c-97a8-d76e049ddc10",
   "metadata": {},
   "outputs": [
    {
     "data": {
      "image/png": "[encoded data removed]",
      "text/plain": [
       "<Figure size 640x480 with 1 Axes>"
      ]
     },
     "metadata": {},
     "output_type": "display_data"
    }
   ],
   "source": [
    "plt.boxplot(gf1[\"fare_amount\"])\n",
    "plt.show()"
   ]
  },
  {
   "cell_type": "code",
   "execution_count": 40,
   "id": "bd4675f2-5e48-4e70-b44f-c8f90e48d233",
   "metadata": {},
   "outputs": [],
   "source": [
    "cf = gf1.copy()"
   ]
  },
  {
   "cell_type": "code",
   "execution_count": 41,
   "id": "1c750f11-f976-4f39-a515-ad6b26fd20e7",
   "metadata": {},
   "outputs": [
    {
     "data": {
      "text/plain": [
       "passenger_count    2964106\n",
       "payment_type       2964106\n",
       "fare_amount        2964106\n",
       "trip_distance      2964106\n",
       "duration           2964106\n",
       "dtype: int64"
      ]
     },
     "execution_count": 41,
     "metadata": {},
     "output_type": "execute_result"
    }
   ],
   "source": [
    "cf.count()"
   ]
  },
  {
   "cell_type": "markdown",
   "id": "79ff823f-d75e-4bb6-bf16-fd8e3a4bca72",
   "metadata": {},
   "source": [
    "# Distribution of fare amount and trip distance on the basis of payment type"
   ]
  },
  {
   "cell_type": "code",
   "execution_count": 65,
   "id": "7bd5b6c7-e3b6-45a4-89d1-c0be3de43dbf",
   "metadata": {},
   "outputs": [
    {
     "data": {
      "image/png": "[encoded data removed]",
      "text/plain": [
       "<Figure size 1200x500 with 2 Axes>"
      ]
     },
     "metadata": {},
     "output_type": "display_data"
    }
   ],
   "source": [
    "plt.figure(figsize=(12,5))\n",
    "plt.subplot(1,2,1)\n",
    "\n",
    "plt.hist(cf[cf[\"payment_type\"]== \"card\"][\"fare_amount\"],bins =20,color = \"#E59061\",histtype = \"barstacked\",label = \"card\",edgecolor = \"black\")\n",
    "plt.hist(cf[cf[\"payment_type\"]== \"cash\"][\"fare_amount\"],bins =20,color = \"#CA5A1C\",histtype = \"barstacked\",label = \"cash\",edgecolor = \"black\")\n",
    "plt.title(\"Fare Amount\")\n",
    "plt.legend()\n",
    "plt.subplot(1,2,2)\n",
    "plt.hist(cf[cf[\"payment_type\"]== \"card\"][\"trip_distance\"],color = \"#E59061\",histtype = \"barstacked\",bins =20,label = \"card\",edgecolor = \"black\")\n",
    "plt.hist(cf[cf[\"payment_type\"]== \"cash\"][\"trip_distance\"],color = \"#CA5A1C\",histtype = \"barstacked\",bins =20,label = \"cash\",edgecolor = \"black\")\n",
    "\n",
    "plt.title(\"Trip Distance\")\n",
    "plt.legend()\n",
    "plt.show()\n",
    "           \n"
   ]
  },
  {
   "cell_type": "markdown",
   "id": "116e2f94-f56c-4515-8a7b-8e32ce2b413f",
   "metadata": {},
   "source": [
    "# mean and standerd deviation of fare amount and trip distance"
   ]
  },
  {
   "cell_type": "code",
   "execution_count": 43,
   "id": "05ce53ef-1fc1-4d1f-8c40-18e18cae038e",
   "metadata": {},
   "outputs": [
    {
     "data": {
      "text/html": [
       "<div>\n",
       "<style scoped>\n",
       "    .dataframe tbody tr th:only-of-type {\n",
       "        vertical-align: middle;\n",
       "    }\n",
       "\n",
       "    .dataframe tbody tr th {\n",
       "        vertical-align: top;\n",
       "    }\n",
       "\n",
       "    .dataframe thead tr th {\n",
       "        text-align: left;\n",
       "    }\n",
       "\n",
       "    .dataframe thead tr:last-of-type th {\n",
       "        text-align: right;\n",
       "    }\n",
       "</style>\n",
       "<table border=\"1\" class=\"dataframe\">\n",
       "  <thead>\n",
       "    <tr>\n",
       "      <th></th>\n",
       "      <th colspan=\"2\" halign=\"left\">fare_amount</th>\n",
       "      <th colspan=\"2\" halign=\"left\">trip_distance</th>\n",
       "    </tr>\n",
       "    <tr>\n",
       "      <th></th>\n",
       "      <th>mean</th>\n",
       "      <th>std</th>\n",
       "      <th>mean</th>\n",
       "      <th>std</th>\n",
       "    </tr>\n",
       "    <tr>\n",
       "      <th>payment_type</th>\n",
       "      <th></th>\n",
       "      <th></th>\n",
       "      <th></th>\n",
       "      <th></th>\n",
       "    </tr>\n",
       "  </thead>\n",
       "  <tbody>\n",
       "    <tr>\n",
       "      <th>card</th>\n",
       "      <td>13.879168</td>\n",
       "      <td>6.31275</td>\n",
       "      <td>3.234168</td>\n",
       "      <td>2.188518</td>\n",
       "    </tr>\n",
       "    <tr>\n",
       "      <th>cash</th>\n",
       "      <td>12.316709</td>\n",
       "      <td>6.00181</td>\n",
       "      <td>2.780616</td>\n",
       "      <td>2.080957</td>\n",
       "    </tr>\n",
       "  </tbody>\n",
       "</table>\n",
       "</div>"
      ],
      "text/plain": [
       "             fare_amount          trip_distance          \n",
       "                    mean      std          mean       std\n",
       "payment_type                                             \n",
       "card           13.879168  6.31275      3.234168  2.188518\n",
       "cash           12.316709  6.00181      2.780616  2.080957"
      ]
     },
     "execution_count": 43,
     "metadata": {},
     "output_type": "execute_result"
    }
   ],
   "source": [
    "cf.groupby(\"payment_type\").agg({\"fare_amount\":[\"mean\",\"std\"],\"trip_distance\":[\"mean\",\"std\"]})"
   ]
  },
  {
   "cell_type": "markdown",
   "id": "262478a1-49b3-41b5-8bc6-fe7f972cebd5",
   "metadata": {},
   "source": [
    "# Using pie chart to show the proporsion of card and cash users"
   ]
  },
  {
   "cell_type": "code",
   "execution_count": 44,
   "id": "049cf794-f708-4619-bb2d-1d9f6c710050",
   "metadata": {},
   "outputs": [
    {
     "data": {
      "text/plain": [
       "payment_type\n",
       "card    2000603\n",
       "cash     963503\n",
       "Name: count, dtype: int64"
      ]
     },
     "execution_count": 44,
     "metadata": {},
     "output_type": "execute_result"
    }
   ],
   "source": [
    "cf[\"payment_type\"].value_counts()"
   ]
  },
  {
   "cell_type": "code",
   "execution_count": 69,
   "id": "212e773d-5628-4b94-bd7a-6719be90b00f",
   "metadata": {},
   "outputs": [
    {
     "data": {
      "image/png": "[encoded data removed]",
      "text/plain": [
       "<Figure size 1200x500 with 1 Axes>"
      ]
     },
     "metadata": {},
     "output_type": "display_data"
    }
   ],
   "source": [
    "plt.figure(figsize = (12,5))\n",
    "plt.pie(cf[\"payment_type\"].value_counts(),labels = cf[\"payment_type\"].value_counts().index,\n",
    "       colors =[\"#E59061\",\"#CA5A1C\"], autopct = \"%1.1f%%\",startangle = 90,shadow = True)\n",
    "plt.title(\"The Proportion of Card and Cash users\")\n",
    "plt.show()"
   ]
  },
  {
   "cell_type": "code",
   "execution_count": 46,
   "id": "e7ef2062-b346-4490-a4c4-e03d3f2a7fce",
   "metadata": {},
   "outputs": [
    {
     "data": {
      "text/html": [
       "<div>\n",
       "<style scoped>\n",
       "    .dataframe tbody tr th:only-of-type {\n",
       "        vertical-align: middle;\n",
       "    }\n",
       "\n",
       "    .dataframe tbody tr th {\n",
       "        vertical-align: top;\n",
       "    }\n",
       "\n",
       "    .dataframe thead th {\n",
       "        text-align: right;\n",
       "    }\n",
       "</style>\n",
       "<table border=\"1\" class=\"dataframe\">\n",
       "  <thead>\n",
       "    <tr style=\"text-align: right;\">\n",
       "      <th></th>\n",
       "      <th>passenger_count</th>\n",
       "      <th>payment_type</th>\n",
       "      <th>fare_amount</th>\n",
       "      <th>trip_distance</th>\n",
       "      <th>duration</th>\n",
       "    </tr>\n",
       "  </thead>\n",
       "  <tbody>\n",
       "    <tr>\n",
       "      <th>0</th>\n",
       "      <td>1</td>\n",
       "      <td>card</td>\n",
       "      <td>6.0</td>\n",
       "      <td>1.2</td>\n",
       "      <td>4.80</td>\n",
       "    </tr>\n",
       "    <tr>\n",
       "      <th>1</th>\n",
       "      <td>1</td>\n",
       "      <td>card</td>\n",
       "      <td>7.0</td>\n",
       "      <td>1.2</td>\n",
       "      <td>7.42</td>\n",
       "    </tr>\n",
       "  </tbody>\n",
       "</table>\n",
       "</div>"
      ],
      "text/plain": [
       "   passenger_count payment_type  fare_amount  trip_distance  duration\n",
       "0                1         card          6.0            1.2      4.80\n",
       "1                1         card          7.0            1.2      7.42"
      ]
     },
     "execution_count": 46,
     "metadata": {},
     "output_type": "execute_result"
    }
   ],
   "source": [
    "cf.head(2)"
   ]
  },
  {
   "cell_type": "code",
   "execution_count": 47,
   "id": "6d31e7f2-f288-4baa-8134-dbadb6e78502",
   "metadata": {},
   "outputs": [],
   "source": [
    "psn_count = cf.groupby([\"payment_type\",\"passenger_count\"])[[\"passenger_count\"]].sum()"
   ]
  },
  {
   "cell_type": "code",
   "execution_count": 48,
   "id": "a2f57e7b-43b7-4582-981e-f8f038c88ea8",
   "metadata": {},
   "outputs": [],
   "source": [
    "psn_count.rename(columns = {\"passenger_count\":\"count\"},inplace = True)"
   ]
  },
  {
   "cell_type": "code",
   "execution_count": 49,
   "id": "45db1ad8-cdb1-4329-83ba-a00d780aead0",
   "metadata": {},
   "outputs": [],
   "source": [
    "psn_count.reset_index(inplace = True)"
   ]
  },
  {
   "cell_type": "code",
   "execution_count": 50,
   "id": "90bf447c-9aee-4a75-91ed-492cb72efe52",
   "metadata": {},
   "outputs": [],
   "source": [
    "psn_count[\"prc\"] = (psn_count[\"count\"]/psn_count[\"count\"].sum())*100"
   ]
  },
  {
   "cell_type": "code",
   "execution_count": 51,
   "id": "cc9e0fd4-0d5b-4904-af21-f1718f0d8ca1",
   "metadata": {},
   "outputs": [
    {
     "data": {
      "text/plain": [
       "np.int64(5365859)"
      ]
     },
     "execution_count": 51,
     "metadata": {},
     "output_type": "execute_result"
    }
   ],
   "source": [
    "psn_count[\"count\"].sum()"
   ]
  },
  {
   "cell_type": "code",
   "execution_count": 52,
   "id": "0a95a0aa-69cd-4969-91ce-efce4cd36047",
   "metadata": {},
   "outputs": [],
   "source": [
    "psn_count[\"prc\"] = psn_count[\"prc\"].round(2)"
   ]
  },
  {
   "cell_type": "code",
   "execution_count": 53,
   "id": "eb42a9ac-7116-4342-9739-51313fe3c1cd",
   "metadata": {},
   "outputs": [
    {
     "data": {
      "text/plain": [
       "RangeIndex(start=0, stop=10, step=1)"
      ]
     },
     "execution_count": 53,
     "metadata": {},
     "output_type": "execute_result"
    }
   ],
   "source": [
    "psn_count.index"
   ]
  },
  {
   "cell_type": "markdown",
   "id": "3111f377-a39b-4b3f-8e7c-49ee6772db39",
   "metadata": {},
   "source": [
    "# Transpose the data to plot stacked bar plot"
   ]
  },
  {
   "cell_type": "code",
   "execution_count": 54,
   "id": "59ca1e5d-a72a-438f-b229-5c9e1b33a99c",
   "metadata": {},
   "outputs": [],
   "source": [
    "dff = pd.DataFrame(columns = [\"payment_type\",1,2,3,4,5])\n",
    "dff[\"payment_type\"] = [\"card\",\"cash\"]\n",
    "dff.iloc[0,1:] = psn_count.iloc[0:5,-1]\n",
    "dff.iloc[1,1:] = psn_count.iloc[5:,3]"
   ]
  },
  {
   "cell_type": "code",
   "execution_count": 55,
   "id": "96137bef-1f6a-43d5-a9d1-038aa69d0d22",
   "metadata": {},
   "outputs": [],
   "source": [
    "dff.set_index(\"payment_type\",inplace = True)"
   ]
  },
  {
   "cell_type": "code",
   "execution_count": 56,
   "id": "901f2b7e-2949-404d-9172-09137ce4b2ed",
   "metadata": {},
   "outputs": [
    {
     "data": {
      "text/plain": [
       "Index(['card', 'cash'], dtype='object', name='payment_type')"
      ]
     },
     "execution_count": 56,
     "metadata": {},
     "output_type": "execute_result"
    }
   ],
   "source": [
    "dff.index"
   ]
  },
  {
   "cell_type": "markdown",
   "id": "4c8c8c4c-828f-4aee-bcb7-e8ce213d0deb",
   "metadata": {},
   "source": [
    "# Percentage distribution in passenger type by payment value"
   ]
  },
  {
   "cell_type": "code",
   "execution_count": 70,
   "id": "b7958282-695c-4b15-8448-70178d23fdcc",
   "metadata": {},
   "outputs": [
    {
     "data": {
      "image/png": "[encoded data removed]",
      "text/plain": [
       "<Figure size 1200x500 with 1 Axes>"
      ]
     },
     "metadata": {},
     "output_type": "display_data"
    }
   ],
   "source": [
    "ax = dff.plot(kind=\"barh\",stacked = True,figsize = (12,5),color = [\"#F2C8B0\",\"#E59061\",\"#CA5A1C\",\"#F5CFCF\",\"#EC5A72\"])\n",
    "plt.title(\"Distribution of Passengers by Payment Method\")\n",
    "for container in ax.containers:\n",
    "    ax.bar_label(container,fmt=\"%d%%\",label_type = \"center\",fontsize = 9,color = \"black\") \n",
    "\n",
    "plt.show()"
   ]
  },
  {
   "cell_type": "markdown",
   "id": "f5e0617f-d2bc-4f4a-b83b-933773f9817b",
   "metadata": {},
   "source": [
    "# we are cheaking that the data is normally distributed or not "
   ]
  },
  {
   "cell_type": "code",
   "execution_count": 58,
   "id": "c4321788-a37c-4292-8fba-33e1e86099ee",
   "metadata": {},
   "outputs": [
    {
     "data": {
      "image/png": "[encoded data removed]",
      "text/plain": [
       "<Figure size 640x480 with 1 Axes>"
      ]
     },
     "metadata": {},
     "output_type": "display_data"
    }
   ],
   "source": [
    "sm.qqplot(cf[\"fare_amount\"],line = \"45\")\n",
    "plt.show()"
   ]
  },
  {
   "cell_type": "markdown",
   "id": "975a6f65-89a5-4647-81c0-d76247ab3965",
   "metadata": {},
   "source": [
    "# The data is not normally distributed"
   ]
  },
  {
   "cell_type": "markdown",
   "id": "380cffc8-5756-4f3a-b0eb-1bc22a3835e7",
   "metadata": {},
   "source": [
    "# use Ttest for hypotheses testing"
   ]
  },
  {
   "cell_type": "code",
   "execution_count": 59,
   "id": "6fbeb9fe-9837-4264-a63e-3f1b83d3ecae",
   "metadata": {},
   "outputs": [],
   "source": [
    "card_v = cf[cf[\"payment_type\"] == \"card\"][\"fare_amount\"]\n",
    "cash_v = cf[cf[\"payment_type\"] == \"cash\"][\"fare_amount\"]"
   ]
  },
  {
   "cell_type": "code",
   "execution_count": 60,
   "id": "648e7f3f-16b3-463b-8322-37e0e4ce1503",
   "metadata": {},
   "outputs": [
    {
     "data": {
      "text/plain": [
       "0           6.0\n",
       "1           7.0\n",
       "2           6.0\n",
       "3           5.5\n",
       "9           8.0\n",
       "           ... \n",
       "8999977    24.0\n",
       "8999986     4.5\n",
       "8999991    18.5\n",
       "8999996    14.5\n",
       "8999997    15.0\n",
       "Name: fare_amount, Length: 2000603, dtype: float64"
      ]
     },
     "execution_count": 60,
     "metadata": {},
     "output_type": "execute_result"
    }
   ],
   "source": [
    "card_v"
   ]
  },
  {
   "cell_type": "code",
   "execution_count": 71,
   "id": "fe2220be-7fc9-40d8-bb21-e5fe87c50dae",
   "metadata": {},
   "outputs": [
    {
     "name": "stdout",
     "output_type": "stream",
     "text": [
      "T_statistics 206.4 P_value 0.0\n"
     ]
    }
   ],
   "source": [
    "ttest,pvalue = st.ttest_ind(a = card_v,b = cash_v ,equal_var = False)\n",
    "print(\"T_statistics\",ttest.round(2),\"P_value\",pvalue)"
   ]
  },
  {
   "cell_type": "markdown",
   "id": "edc32673-d60b-4913-9e9c-4067efc48d76",
   "metadata": {},
   "source": [
    "# the null hypothese is reject becouse the pvalue is 0.0 which lesser then significance level = 0.05"
   ]
  }
 ],
 "metadata": {
  "kernelspec": {
   "display_name": "Python 3 (ipykernel)",
   "language": "python",
   "name": "python3"
  },
  "language_info": {
   "codemirror_mode": {
    "name": "ipython",
    "version": 3
   },
   "file_extension": ".py",
   "mimetype": "text/x-python",
   "name": "python",
   "nbconvert_exporter": "python",
   "pygments_lexer": "ipython3",
   "version": "3.12.4"
  }
 },
 "nbformat": 4,
 "nbformat_minor": 5
}
